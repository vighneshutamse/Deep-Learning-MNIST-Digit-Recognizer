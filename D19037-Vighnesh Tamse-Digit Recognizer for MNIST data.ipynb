{
  "nbformat": 4,
  "nbformat_minor": 0,
  "metadata": {
    "colab": {
      "name": "DL MNIST Assignment1.ipynb",
      "provenance": []
    },
    "kernelspec": {
      "name": "python3",
      "display_name": "Python 3"
    }
  },
  "cells": [
    {
      "cell_type": "code",
      "metadata": {
        "id": "rqc5qpRp_fVY",
        "colab_type": "code",
        "colab": {}
      },
      "source": [
        "import torch\n",
        "from torch import nn\n",
        "import torch.nn.functional as F\n",
        "from torchvision import datasets,transforms\n",
        "from torch import optim"
      ],
      "execution_count": 0,
      "outputs": []
    },
    {
      "cell_type": "code",
      "metadata": {
        "id": "rsTRVnem_gGX",
        "colab_type": "code",
        "colab": {}
      },
      "source": [
        "transform=transforms.Compose([transforms.ToTensor()])\n",
        "trainset=datasets.MNIST('~/.pytorch/MNIST_data/',train=True,transform=transform,download=True)\n",
        "testset=datasets.MNIST('~/.pytorch/MNIST_data/',train=False,transform=transform,download=True)\n",
        "\n",
        "trainloader=torch.utils.data.DataLoader(trainset,batch_size=100,shuffle=True,num_workers=0)\n",
        "#will explain later\n",
        "testloader=torch.utils.data.DataLoader(testset,batch_size=100,shuffle=True,num_workers=0)"
      ],
      "execution_count": 0,
      "outputs": []
    },
    {
      "cell_type": "code",
      "metadata": {
        "id": "zr96eKLL_gIv",
        "colab_type": "code",
        "colab": {}
      },
      "source": [
        "class Network(nn.Module):\n",
        "    def __init__(self):\n",
        "        super().__init__()\n",
        "        self.fc1 = nn.Linear(784, 100)\n",
        "        self.fc2 = nn.Linear(100, 50)\n",
        "        #self.fc3 = nn.Linear(128, 64)\n",
        "        self.fc4 = nn.Linear(50, 10)\n",
        "\n",
        "        # Dropout module with 0.2 drop probability\n",
        "        self.dropout = nn.Dropout(p=0.1)\n",
        "\n",
        "    def forward(self, x):\n",
        "        # make sure input tensor is flattened\n",
        "        x = x.view(x.shape[0], -1)\n",
        "\n",
        "        # Now with dropout\n",
        "        x = self.dropout(F.relu(self.fc1(x)))\n",
        "        x = self.dropout(F.relu(self.fc2(x)))\n",
        "        #x = self.dropout(F.relu(self.fc3(x)))\n",
        "\n",
        "        # output so no dropout here\n",
        "        x = F.log_softmax(self.fc4(x), dim=1)\n",
        "\n",
        "        return x\n",
        "        \n",
        "model=Network()\n",
        "optimizer=optim.Adam(model.parameters(),lr=0.01)\n",
        "criterion=nn.NLLLoss()"
      ],
      "execution_count": 0,
      "outputs": []
    },
    {
      "cell_type": "code",
      "metadata": {
        "id": "XWby6Tll_gNZ",
        "colab_type": "code",
        "colab": {
          "base_uri": "https://localhost:8080/",
          "height": 102
        },
        "outputId": "56da559a-ebc6-419e-97c0-e963bbb86029"
      },
      "source": [
        "epochs=5\n",
        "train_losses,test_losses=[],[]\n",
        "for e in range(epochs):\n",
        "    running_loss=0\n",
        "    for images,labels in trainloader:\n",
        "        optimizer.zero_grad()\n",
        "        #images=images.view(images.shape[0],-1)\n",
        "        log_ps=model(images)\n",
        "        loss=criterion(log_ps,labels) # a single value for ex 2.33\n",
        "        loss.backward()\n",
        "        optimizer.step()\n",
        "        running_loss += loss.item() * images.shape[0] ## (2.33*64 + 2.22*64 + 2.12*33) / 138 \n",
        "        \n",
        "    else:\n",
        "        test_loss=0\n",
        "        accuracy=0\n",
        "        \n",
        "        with torch.no_grad():\n",
        "            model.eval()\n",
        "            for images,labels in testloader:\n",
        "                log_ps=model(images)\n",
        "                test_loss+=criterion(log_ps,labels) *images.shape[0]\n",
        "                ps=torch.exp(log_ps)\n",
        "                top_p,top_class=ps.topk(1,dim=1)\n",
        "                equals=top_class==labels.view(*top_class.shape)\n",
        "                accuracy+=torch.sum(equals).item()\n",
        "        model.train()\n",
        "        train_losses.append(running_loss/len(trainloader.dataset))\n",
        "        test_losses.append(test_loss.item()/len(testloader.dataset))\n",
        "\n",
        "        print(\"Epoch: {}/{}.. \".format(e+1, epochs),\n",
        "              \"Training Loss: {:.3f}.. \".format(running_loss/len(trainloader.dataset)),\n",
        "              \"Test Loss: {:.3f}.. \".format(test_loss/len(testloader.dataset)),\n",
        "              \"Test Accuracy: {:.3f}\".format(accuracy/len(testloader.dataset)))    "
      ],
      "execution_count": 27,
      "outputs": [
        {
          "output_type": "stream",
          "text": [
            "Epoch: 1/5..  Training Loss: 0.096..  Test Loss: 0.160..  Test Accuracy: 0.969\n",
            "Epoch: 2/5..  Training Loss: 0.101..  Test Loss: 0.134..  Test Accuracy: 0.972\n",
            "Epoch: 3/5..  Training Loss: 0.096..  Test Loss: 0.140..  Test Accuracy: 0.970\n",
            "Epoch: 4/5..  Training Loss: 0.094..  Test Loss: 0.163..  Test Accuracy: 0.970\n",
            "Epoch: 5/5..  Training Loss: 0.093..  Test Loss: 0.139..  Test Accuracy: 0.974\n"
          ],
          "name": "stdout"
        }
      ]
    },
    {
      "cell_type": "code",
      "metadata": {
        "id": "t8juECx8Kzda",
        "colab_type": "code",
        "colab": {
          "base_uri": "https://localhost:8080/",
          "height": 221
        },
        "outputId": "77cda170-8058-4e55-a71e-aa9220f32be6"
      },
      "source": [
        "print(\"Our model: \\n\\n\", model, '\\n')\n",
        "print(\"The state dict keys: \\n\\n\", model.state_dict().keys())"
      ],
      "execution_count": 28,
      "outputs": [
        {
          "output_type": "stream",
          "text": [
            "Our model: \n",
            "\n",
            " Network(\n",
            "  (fc1): Linear(in_features=784, out_features=100, bias=True)\n",
            "  (fc2): Linear(in_features=100, out_features=50, bias=True)\n",
            "  (fc4): Linear(in_features=50, out_features=10, bias=True)\n",
            "  (dropout): Dropout(p=0.1, inplace=False)\n",
            ") \n",
            "\n",
            "The state dict keys: \n",
            "\n",
            " odict_keys(['fc1.weight', 'fc1.bias', 'fc2.weight', 'fc2.bias', 'fc4.weight', 'fc4.bias'])\n"
          ],
          "name": "stdout"
        }
      ]
    },
    {
      "cell_type": "code",
      "metadata": {
        "id": "6Uu_TEE9Kzbs",
        "colab_type": "code",
        "colab": {}
      },
      "source": [
        "torch.save(model.state_dict(), 'checkpoint.pth')"
      ],
      "execution_count": 0,
      "outputs": []
    },
    {
      "cell_type": "code",
      "metadata": {
        "id": "RRP2wUOvKzZv",
        "colab_type": "code",
        "colab": {
          "base_uri": "https://localhost:8080/",
          "height": 34
        },
        "outputId": "78d0b8fd-5b66-47ad-9668-35f11db41b0b"
      },
      "source": [
        "state_dict = torch.load('checkpoint.pth')\n",
        "print(state_dict.keys())"
      ],
      "execution_count": 30,
      "outputs": [
        {
          "output_type": "stream",
          "text": [
            "odict_keys(['fc1.weight', 'fc1.bias', 'fc2.weight', 'fc2.bias', 'fc4.weight', 'fc4.bias'])\n"
          ],
          "name": "stdout"
        }
      ]
    },
    {
      "cell_type": "code",
      "metadata": {
        "id": "KsOCq_OHKzTv",
        "colab_type": "code",
        "colab": {
          "base_uri": "https://localhost:8080/",
          "height": 34
        },
        "outputId": "02954eda-2945-4af4-ae30-4b699902aafb"
      },
      "source": [
        "model.load_state_dict(state_dict)"
      ],
      "execution_count": 31,
      "outputs": [
        {
          "output_type": "execute_result",
          "data": {
            "text/plain": [
              "<All keys matched successfully>"
            ]
          },
          "metadata": {
            "tags": []
          },
          "execution_count": 31
        }
      ]
    },
    {
      "cell_type": "code",
      "metadata": {
        "id": "H0-xyBzoLAEi",
        "colab_type": "code",
        "colab": {}
      },
      "source": [
        "checkpoint = {'input_size': 784,\n",
        "              'output_size': 10,\n",
        "              'hidden_layers': [256,128,64],\n",
        "              'state_dict': model.state_dict()}\n",
        "\n",
        "torch.save(checkpoint, 'checkpoint.pth')"
      ],
      "execution_count": 0,
      "outputs": []
    },
    {
      "cell_type": "code",
      "metadata": {
        "id": "2BCszkBc_gSJ",
        "colab_type": "code",
        "colab": {
          "base_uri": "https://localhost:8080/",
          "height": 34
        },
        "outputId": "c2b9463a-a89c-4e54-9ec3-9f649b590754"
      },
      "source": [
        "running_loss"
      ],
      "execution_count": 17,
      "outputs": [
        {
          "output_type": "execute_result",
          "data": {
            "text/plain": [
              "9158.460867777467"
            ]
          },
          "metadata": {
            "tags": []
          },
          "execution_count": 17
        }
      ]
    },
    {
      "cell_type": "code",
      "metadata": {
        "id": "1u7w4sbf_gXL",
        "colab_type": "code",
        "colab": {
          "base_uri": "https://localhost:8080/",
          "height": 282
        },
        "outputId": "8ef059de-f3ef-4b8c-8104-73d8d534026f"
      },
      "source": [
        "import matplotlib.pyplot as plt\n",
        "%matplotlib inline\n",
        "plt.plot(train_losses, label='Training loss')\n",
        "plt.plot(test_losses, label='Validation loss')\n",
        "plt.legend(frameon=False)"
      ],
      "execution_count": 18,
      "outputs": [
        {
          "output_type": "execute_result",
          "data": {
            "text/plain": [
              "<matplotlib.legend.Legend at 0x7fbf9a7b3f98>"
            ]
          },
          "metadata": {
            "tags": []
          },
          "execution_count": 18
        },
        {
          "output_type": "display_data",
          "data": {
            "image/png": "[encoded data removed]",
            "text/plain": [
              "<Figure size 432x288 with 1 Axes>"
            ]
          },
          "metadata": {
            "tags": []
          }
        }
      ]
    },
    {
      "cell_type": "code",
      "metadata": {
        "id": "G9XhmwwX_gaC",
        "colab_type": "code",
        "colab": {
          "base_uri": "https://localhost:8080/",
          "height": 34
        },
        "outputId": "e51a0d97-ae43-44ae-fee4-8fd3047ac0b2"
      },
      "source": [
        "model.eval()\n",
        "\n",
        "dataiter = iter(testloader)\n",
        "images, labels = dataiter.next()\n",
        "img = images[0]\n",
        "# Convert 2D image to 1D vector\n",
        "img = img.view(1, 784)\n",
        "\n",
        "# Calculate the class probabilities (softmax) for img\n",
        "with torch.no_grad():\n",
        "    output = model.forward(img)\n",
        "\n",
        "ps = torch.exp(output)\n",
        "top_prob,top_class=ps.topk(1,dim=1)\n",
        "top_class.item(),labels[0]"
      ],
      "execution_count": 19,
      "outputs": [
        {
          "output_type": "execute_result",
          "data": {
            "text/plain": [
              "(8, tensor(8))"
            ]
          },
          "metadata": {
            "tags": []
          },
          "execution_count": 19
        }
      ]
    },
    {
      "cell_type": "code",
      "metadata": {
        "id": "9cvIf59D_geP",
        "colab_type": "code",
        "colab": {
          "base_uri": "https://localhost:8080/",
          "height": 136
        },
        "outputId": "edc99c00-64e9-42fc-aada-9ec38c940a3d"
      },
      "source": [
        "print(\"Model's state_dict:\")\n",
        "for param_tensor in model.state_dict():\n",
        "    print(param_tensor, \"\\t\", model.state_dict()[param_tensor].size())"
      ],
      "execution_count": 20,
      "outputs": [
        {
          "output_type": "stream",
          "text": [
            "Model's state_dict:\n",
            "fc1.weight \t torch.Size([100, 784])\n",
            "fc1.bias \t torch.Size([100])\n",
            "fc2.weight \t torch.Size([50, 100])\n",
            "fc2.bias \t torch.Size([50])\n",
            "fc4.weight \t torch.Size([10, 50])\n",
            "fc4.bias \t torch.Size([10])\n"
          ],
          "name": "stdout"
        }
      ]
    },
    {
      "cell_type": "code",
      "metadata": {
        "id": "vnwDWIdn_giF",
        "colab_type": "code",
        "colab": {
          "base_uri": "https://localhost:8080/",
          "height": 1000
        },
        "outputId": "beadf9af-4512-4d7d-be4c-1083cc61d5bc"
      },
      "source": [
        "# Print optimizer's state_dict\n",
        "print(\"Optimizer's state_dict:\")\n",
        "for var_name in optimizer.state_dict():\n",
        "    print(var_name, \"\\t\", optimizer.state_dict()[var_name])"
      ],
      "execution_count": 21,
      "outputs": [
        {
          "output_type": "stream",
          "text": [
            "Optimizer's state_dict:\n",
            "state \t {140460908964240: {'step': 7800, 'exp_avg': tensor([[0., 0., 0.,  ..., 0., 0., 0.],\n",
            "        [0., 0., 0.,  ..., 0., 0., 0.],\n",
            "        [0., 0., 0.,  ..., 0., 0., 0.],\n",
            "        ...,\n",
            "        [0., 0., 0.,  ..., 0., 0., 0.],\n",
            "        [0., 0., 0.,  ..., 0., 0., 0.],\n",
            "        [0., 0., 0.,  ..., 0., 0., 0.]]), 'exp_avg_sq': tensor([[0., 0., 0.,  ..., 0., 0., 0.],\n",
            "        [0., 0., 0.,  ..., 0., 0., 0.],\n",
            "        [0., 0., 0.,  ..., 0., 0., 0.],\n",
            "        ...,\n",
            "        [0., 0., 0.,  ..., 0., 0., 0.],\n",
            "        [0., 0., 0.,  ..., 0., 0., 0.],\n",
            "        [0., 0., 0.,  ..., 0., 0., 0.]])}, 140460908964384: {'step': 7800, 'exp_avg': tensor([ 2.4382e-04,  3.0963e-06,  4.0452e-06,  7.0769e-05,  8.5835e-05,\n",
            "        -6.3067e-04,  1.1524e-03, -6.9888e-05,  5.6052e-45,  5.8251e-04,\n",
            "         5.6052e-45,  5.6052e-45, -9.0050e-04,  1.1031e-03,  5.6052e-45,\n",
            "         5.6052e-45,  3.9605e-04,  7.7231e-04,  4.4290e-04, -6.1710e-04,\n",
            "        -4.1801e-04,  1.8286e-03,  5.6052e-45, -1.8768e-04, -3.1719e-04,\n",
            "        -1.9489e-04, -1.5590e-04, -1.2060e-04, -6.6059e-04,  9.1797e-04,\n",
            "         1.3889e-03,  5.6052e-45,  5.6052e-45, -6.3446e-04,  5.6052e-45,\n",
            "         1.2700e-03,  4.6536e-04,  1.0626e-03,  6.3552e-05,  1.7350e-06,\n",
            "         5.6052e-45,  5.6052e-45, -3.3703e-04,  1.6987e-04, -3.8327e-03,\n",
            "        -6.9252e-05,  3.6111e-04,  4.4206e-04, -1.5450e-04,  1.9312e-05,\n",
            "        -3.9190e-04, -3.4382e-03, -8.0312e-05, -1.2797e-04,  4.7308e-04,\n",
            "        -3.2777e-04, -5.9083e-03,  1.1063e-04,  1.6427e-03, -2.2634e-04,\n",
            "         7.2683e-04, -2.7635e-04, -3.4899e-06,  5.6052e-45,  3.5503e-05,\n",
            "         5.6052e-45, -9.6142e-04, -5.1164e-07,  5.6052e-45,  1.4961e-05,\n",
            "        -2.0492e-04, -9.2091e-05, -9.0491e-05, -2.5113e-04,  3.0017e-04,\n",
            "        -1.5826e-04, -8.4393e-05,  5.6052e-45, -9.7797e-04,  7.1105e-04,\n",
            "         5.6052e-45, -1.0503e-04,  5.6052e-45, -8.8246e-06,  1.3178e-04,\n",
            "        -1.1309e-03,  5.5626e-06,  7.4549e-04,  1.5543e-03, -9.8441e-05,\n",
            "         5.6052e-45,  7.4137e-04,  3.3727e-04, -6.6052e-06,  1.4779e-04,\n",
            "        -7.3873e-05,  5.6052e-45, -3.3119e-03, -4.5022e-04, -3.0322e-04]), 'exp_avg_sq': tensor([4.9129e-06, 5.5713e-06, 4.3795e-06, 1.0472e-05, 6.8975e-06, 7.8781e-06,\n",
            "        9.0336e-06, 6.9921e-06, 3.5928e-13, 5.8646e-06, 1.3627e-12, 1.7850e-12,\n",
            "        6.7829e-06, 1.2902e-05, 8.1328e-12, 1.0938e-10, 4.5529e-06, 6.4584e-06,\n",
            "        7.5321e-06, 9.2044e-06, 8.5545e-06, 4.8749e-06, 8.9947e-12, 4.5886e-06,\n",
            "        2.4826e-06, 4.4355e-06, 1.3991e-05, 1.7928e-05, 8.6837e-06, 1.1595e-05,\n",
            "        6.2217e-06, 1.9984e-13, 2.8062e-11, 4.6393e-06, 1.0843e-11, 4.8660e-06,\n",
            "        8.3601e-06, 5.1415e-06, 7.8569e-06, 6.4760e-06, 1.6633e-12, 2.4088e-13,\n",
            "        5.0438e-06, 3.3061e-06, 8.7294e-06, 5.5205e-06, 5.5827e-06, 4.2459e-06,\n",
            "        2.7915e-06, 7.2252e-06, 6.4840e-06, 5.9742e-06, 7.2466e-06, 1.0188e-05,\n",
            "        6.2295e-06, 6.5793e-06, 1.2098e-05, 5.0413e-06, 3.7009e-06, 5.2706e-06,\n",
            "        8.8030e-06, 7.4818e-06, 3.1016e-06, 2.1447e-12, 7.1727e-06, 2.1864e-13,\n",
            "        7.3249e-06, 5.1760e-06, 3.2953e-12, 6.9180e-06, 3.5986e-06, 1.0811e-05,\n",
            "        5.7976e-06, 6.2089e-06, 5.8194e-06, 2.5911e-06, 4.5106e-06, 1.2221e-12,\n",
            "        4.6498e-06, 5.5514e-06, 8.0069e-12, 6.4554e-06, 1.6994e-11, 8.8872e-06,\n",
            "        6.4217e-06, 7.4654e-06, 3.0750e-06, 5.4677e-06, 6.3267e-06, 2.2441e-06,\n",
            "        1.3731e-11, 8.0916e-06, 2.4321e-06, 7.2685e-06, 1.1041e-05, 6.9388e-06,\n",
            "        1.3662e-11, 7.4363e-06, 9.9584e-06, 6.5112e-06])}, 140460908964456: {'step': 7800, 'exp_avg': tensor([[ 1.4157e-08, -9.5717e-18, -5.6052e-45,  ...,  2.2318e-03,\n",
            "         -2.2363e-23, -3.5654e-07],\n",
            "        [-9.6911e-25, -2.2646e-16,  5.6052e-45,  ..., -5.0614e-04,\n",
            "         -1.2669e-11, -7.6986e-06],\n",
            "        [ 2.9141e-10,  2.4079e-13, -1.0884e-13,  ...,  3.7155e-04,\n",
            "         -3.8438e-04,  7.2318e-28],\n",
            "        ...,\n",
            "        [-1.3622e-28, -4.9898e-17, -5.9627e-17,  ..., -6.1978e-04,\n",
            "         -4.3068e-08, -2.8133e-09],\n",
            "        [ 7.3733e-04, -6.8673e-04, -2.2425e-05,  ..., -7.6903e-05,\n",
            "         -2.6979e-03, -5.1459e-05],\n",
            "        [-4.5601e-29, -3.9101e-05, -1.8971e-09,  ..., -1.1699e-03,\n",
            "          7.1898e-07, -1.3248e-03]]), 'exp_avg_sq': tensor([[3.9925e-10, 8.7270e-09, 1.2952e-08,  ..., 4.6071e-05, 3.1370e-08,\n",
            "         4.5677e-06],\n",
            "        [3.0446e-07, 5.8086e-07, 1.1199e-07,  ..., 1.3039e-05, 4.7514e-07,\n",
            "         4.9008e-06],\n",
            "        [6.0029e-09, 8.0518e-08, 4.8182e-08,  ..., 3.2300e-05, 4.0903e-05,\n",
            "         4.6432e-06],\n",
            "        ...,\n",
            "        [5.3535e-11, 8.2787e-08, 8.2706e-09,  ..., 7.4299e-05, 2.1622e-07,\n",
            "         3.9383e-06],\n",
            "        [3.3467e-06, 1.0411e-05, 2.4417e-06,  ..., 6.5562e-06, 7.3716e-05,\n",
            "         6.8302e-06],\n",
            "        [9.6707e-08, 1.7215e-06, 4.8702e-07,  ..., 8.1279e-05, 3.5854e-06,\n",
            "         1.1609e-05]])}, 140460908964528: {'step': 7800, 'exp_avg': tensor([ 3.7598e-04,  7.9472e-04, -1.1503e-04, -9.4722e-04, -2.8980e-04,\n",
            "        -1.3014e-05,  6.6881e-04, -6.1063e-06,  4.7135e-04,  4.9166e-05,\n",
            "         4.6361e-04,  6.2732e-04,  3.4335e-04,  7.0807e-04, -3.2217e-04,\n",
            "        -8.8658e-05, -3.6869e-04, -2.1484e-04,  4.8775e-04, -8.5951e-04,\n",
            "        -2.3231e-04, -4.0284e-04, -7.1800e-04,  3.5416e-04,  2.4352e-06,\n",
            "         7.7394e-04,  9.1538e-04, -2.7097e-05, -2.7174e-04,  2.2327e-04,\n",
            "         5.2660e-04, -8.3374e-04,  7.6265e-04,  1.0488e-04,  9.1182e-04,\n",
            "        -1.8298e-04, -1.4369e-04, -3.4922e-04,  3.2760e-04,  2.0986e-05,\n",
            "         5.3266e-04,  7.7566e-05, -2.0258e-04,  2.6646e-04, -5.1680e-05,\n",
            "         7.6385e-04,  2.6311e-05, -5.1558e-04, -7.3168e-04, -3.1736e-04]), 'exp_avg_sq': tensor([9.5412e-07, 1.5806e-06, 1.7718e-06, 6.9746e-06, 5.6734e-06, 7.8330e-06,\n",
            "        2.7387e-06, 3.5177e-07, 5.5584e-06, 5.7834e-06, 1.6303e-06, 4.1814e-06,\n",
            "        2.6688e-06, 3.0996e-06, 3.2830e-06, 1.6881e-06, 4.6918e-06, 4.0096e-06,\n",
            "        2.9148e-06, 3.8299e-06, 5.8970e-06, 2.7832e-06, 5.9173e-06, 5.6352e-06,\n",
            "        1.8041e-06, 7.0245e-06, 3.5347e-06, 2.3732e-06, 3.9538e-06, 2.9859e-06,\n",
            "        3.1752e-06, 7.8009e-06, 6.0813e-06, 6.1145e-06, 4.0478e-06, 5.8172e-06,\n",
            "        3.7996e-06, 2.3099e-06, 2.4511e-06, 2.1955e-06, 3.7234e-06, 3.5925e-06,\n",
            "        5.2650e-06, 3.2479e-06, 3.6409e-07, 2.7361e-06, 6.8279e-06, 1.8090e-06,\n",
            "        6.6200e-06, 5.0625e-06])}, 140460908964600: {'step': 7800, 'exp_avg': tensor([[ 2.7851e-04,  4.3725e-04,  1.1673e-04,  6.5835e-04,  8.5277e-05,\n",
            "          5.3446e-04,  1.2123e-03,  4.3189e-06,  2.5386e-04,  6.8691e-03,\n",
            "          1.8813e-04,  2.7640e-04,  1.8557e-03, -2.0922e-04, -4.8047e-05,\n",
            "          1.0218e-03,  3.5477e-05, -2.2626e-04,  9.8112e-04,  6.4051e-05,\n",
            "          6.4536e-04,  5.1010e-05,  7.6107e-04,  6.5291e-04,  3.9664e-04,\n",
            "          4.0816e-03, -4.1183e-03,  1.0960e-03,  3.3825e-05,  3.6684e-03,\n",
            "          8.0279e-05,  9.7804e-04,  2.6563e-04,  4.9075e-03,  1.6442e-04,\n",
            "         -1.4182e-04,  1.7187e-04,  1.6311e-03,  2.9309e-04,  1.4049e-03,\n",
            "          3.7607e-03,  9.7184e-05,  3.4192e-04,  2.7676e-03,  8.0898e-05,\n",
            "         -3.7469e-03,  1.0136e-03,  5.9719e-04,  3.0834e-04,  1.9415e-03],\n",
            "        [ 2.1615e-05,  9.5491e-06,  7.1968e-05, -9.1038e-03,  8.5045e-04,\n",
            "          2.9213e-04,  1.3617e-03,  1.6034e-06,  1.4079e-03,  8.9148e-04,\n",
            "          5.8046e-05,  1.2953e-04,  1.0484e-04, -9.8720e-04, -1.1515e-03,\n",
            "          2.5168e-04,  4.4976e-04,  5.3980e-04,  2.1265e-04, -1.1053e-03,\n",
            "          5.7466e-04,  4.0259e-04,  6.7488e-04,  2.9931e-04,  1.2278e-04,\n",
            "          5.6402e-05, -1.8988e-03, -5.8588e-03,  7.9079e-04, -2.3128e-03,\n",
            "          7.4620e-05,  1.7270e-03, -1.2178e-04,  3.4717e-04, -4.2742e-05,\n",
            "          8.7363e-04, -5.6937e-03,  8.0923e-05, -1.1615e-03,  8.1967e-05,\n",
            "          1.1122e-04, -4.2740e-03,  5.2933e-08,  5.4826e-04,  2.0951e-06,\n",
            "         -1.1644e-03, -8.9004e-04,  5.9001e-05, -7.3750e-03,  9.2887e-05],\n",
            "        [ 2.4397e-04,  6.9102e-03,  4.7042e-04, -2.0681e-03,  9.8578e-04,\n",
            "         -2.2331e-03,  2.0885e-02,  3.2875e-08,  5.3607e-02, -9.2626e-03,\n",
            "          1.0413e-02, -1.6594e-03, -8.2983e-05,  2.8549e-02, -3.5111e-03,\n",
            "          5.3609e-03,  4.2979e-03,  3.0520e-03, -2.8737e-04,  1.0100e-02,\n",
            "         -3.3598e-04,  6.3163e-03,  4.6498e-03, -3.2239e-04,  2.3811e-03,\n",
            "         -4.8570e-03,  2.0967e-02,  2.2409e-03,  1.0634e-03, -2.0943e-03,\n",
            "          4.3621e-04, -3.3672e-03,  2.7395e-02,  1.1162e-03,  4.2691e-04,\n",
            "          1.8201e-02, -1.1620e-03, -2.3724e-03,  1.7632e-02,  1.0617e-04,\n",
            "         -3.5463e-04,  3.2442e-03,  1.4560e-02, -3.3210e-03,  1.8222e-05,\n",
            "          2.4623e-02,  2.1102e-02,  2.9014e-04, -1.6627e-03, -1.6059e-03],\n",
            "        [ 3.7523e-05, -4.3629e-03, -1.2835e-03,  4.5647e-04,  6.4699e-03,\n",
            "         -1.6635e-03, -2.9783e-03,  4.1221e-05, -3.1903e-02,  3.0436e-03,\n",
            "         -6.0910e-03, -5.1532e-03,  2.5565e-03,  7.2770e-04,  7.5410e-04,\n",
            "         -7.8468e-03, -6.5629e-04,  3.5172e-03,  1.2668e-03,  1.1779e-02,\n",
            "          4.5388e-04, -1.0250e-02,  2.6070e-03, -1.3738e-03, -3.9281e-03,\n",
            "          9.0443e-04, -2.3792e-03,  1.6566e-04,  7.4462e-04,  3.3847e-04,\n",
            "          1.5289e-03,  7.0486e-03, -6.8905e-03, -8.7387e-04,  1.2919e-07,\n",
            "         -7.6275e-03,  4.3314e-04,  2.1525e-04, -3.9559e-03,  1.3015e-04,\n",
            "         -4.0890e-04, -5.3734e-03, -2.4043e-02,  1.9612e-03,  3.1469e-05,\n",
            "         -2.3646e-03, -9.5689e-03,  1.5245e-04,  8.6631e-03,  1.1937e-04],\n",
            "        [-9.1825e-04,  1.8617e-03,  7.3333e-06,  7.4214e-05, -8.6962e-04,\n",
            "         -4.9123e-03,  3.4263e-03, -7.0450e-07,  5.1096e-04,  1.1058e-03,\n",
            "         -6.1283e-03,  1.5281e-03,  7.6802e-05, -1.1809e-04,  4.0806e-05,\n",
            "         -7.3868e-04, -8.4318e-04,  1.7580e-05, -9.8120e-05,  7.2013e-03,\n",
            "         -1.9544e-02,  5.8604e-05,  9.6615e-04, -1.4771e-02, -4.0878e-03,\n",
            "         -3.8145e-04,  1.0624e-02,  3.5249e-04,  9.3095e-03,  6.4383e-04,\n",
            "          1.6481e-04,  7.4136e-04,  1.9175e-04, -6.7481e-03, -1.3905e-04,\n",
            "         -4.3574e-03,  3.2071e-04, -5.4712e-04, -5.5190e-04,  7.4105e-04,\n",
            "          7.4086e-03,  1.7717e-02,  1.4112e-02,  2.7624e-04,  1.3774e-04,\n",
            "         -3.5671e-03,  1.4968e-03, -8.7615e-04,  1.9446e-04, -2.4961e-03],\n",
            "        [ 1.2544e-04,  4.3660e-05,  9.0508e-05,  2.7344e-03,  1.8741e-03,\n",
            "          9.8915e-03, -1.2423e-03, -1.0560e-04,  1.0349e-03,  1.3213e-02,\n",
            "          1.6334e-04, -1.3960e-02, -1.4734e-03,  7.4718e-05,  2.7877e-05,\n",
            "         -6.7858e-03,  1.1767e-04, -6.6287e-03,  7.8194e-03, -2.8637e-02,\n",
            "         -5.1359e-05,  2.1989e-05, -8.0750e-03, -9.4546e-03,  6.8980e-05,\n",
            "          8.5065e-04, -2.8608e-02,  4.5964e-04,  3.1993e-04,  1.3666e-03,\n",
            "          1.3599e-03,  3.7568e-03,  1.6277e-04, -9.3941e-04, -2.1964e-04,\n",
            "         -7.5289e-03, -5.3592e-04, -9.4690e-04,  3.0469e-05, -2.3434e-03,\n",
            "         -1.0321e-02, -1.7470e-02,  1.6199e-03, -2.0446e-03, -1.4271e-04,\n",
            "          2.8434e-04,  1.0006e-03,  8.6495e-04, -3.4177e-03, -4.3650e-04],\n",
            "        [ 4.5055e-03, -1.4052e-03,  3.4718e-05,  2.5922e-03,  5.1913e-03,\n",
            "          3.9122e-03, -1.7509e-02,  5.0183e-05,  7.5595e-05,  3.5759e-03,\n",
            "         -1.3157e-04,  9.9320e-04,  1.1828e-04, -1.8368e-02,  1.7648e-03,\n",
            "          6.3353e-03,  6.7923e-07,  1.5004e-03, -5.3438e-04,  9.0406e-04,\n",
            "          1.5250e-04,  8.4959e-05,  2.5201e-04,  1.2339e-03,  1.6544e-05,\n",
            "          1.4941e-04,  4.2773e-04,  5.7698e-03,  6.5783e-04,  1.2181e-04,\n",
            "          9.7869e-04,  3.9170e-04, -1.2852e-02,  2.4919e-04,  9.0158e-06,\n",
            "          2.5974e-04,  2.5046e-04,  1.1575e-03, -1.2283e-02,  6.7911e-06,\n",
            "         -3.5162e-03,  1.1910e-03, -2.1010e-04,  1.0430e-05,  8.3352e-05,\n",
            "         -1.5995e-02, -2.5747e-03, -2.0988e-03,  9.3743e-04, -2.4967e-03],\n",
            "        [ 3.8263e-05, -3.8509e-03,  1.2965e-05,  2.0863e-04,  5.3954e-04,\n",
            "          3.3088e-03,  6.7226e-04,  1.8227e-07, -1.8884e-02,  2.3342e-04,\n",
            "         -9.8796e-03, -3.9451e-03,  1.0480e-03,  6.5450e-05,  7.6392e-04,\n",
            "          7.1042e-04, -1.4386e-02,  1.1003e-03,  1.1835e-04, -1.3850e-03,\n",
            "          3.1361e-03,  9.2054e-04,  3.0007e-03,  2.9828e-03, -7.0525e-04,\n",
            "          2.4165e-03, -2.3337e-03, -7.7985e-04, -1.1128e-02,  1.8693e-03,\n",
            "         -1.9799e-04,  9.0301e-04,  4.5925e-03, -1.4287e-02,  1.5282e-03,\n",
            "         -1.8545e-03,  5.2968e-03,  1.7357e-05, -5.2970e-04,  1.4833e-04,\n",
            "          5.9186e-04,  1.8419e-03, -1.2081e-02,  3.2690e-05, -2.9406e-04,\n",
            "         -1.7916e-03,  1.8967e-03,  9.1644e-05,  7.1714e-04,  4.2577e-04],\n",
            "        [-4.3470e-03,  1.0936e-04,  3.5261e-04,  3.5461e-03, -1.5611e-02,\n",
            "         -1.2483e-02, -5.4847e-03,  2.2241e-06, -7.3624e-03, -1.8358e-02,\n",
            "          1.1826e-04, -1.3589e-03, -3.9350e-03, -9.3043e-03,  1.2243e-03,\n",
            "          1.5541e-03,  3.5107e-04, -3.4094e-03, -9.7616e-03,  3.1888e-04,\n",
            "          1.4528e-04,  4.3758e-04, -3.6089e-03, -1.9167e-04,  3.3547e-04,\n",
            "         -8.4517e-04, -1.3741e-03, -3.5248e-03,  6.6702e-04, -4.1351e-03,\n",
            "         -4.1468e-03, -8.0316e-03, -1.2576e-02,  2.3796e-04, -4.1385e-04,\n",
            "         -3.3781e-03,  1.8610e-03,  6.3134e-04,  3.6002e-04,  2.9277e-05,\n",
            "          1.6460e-04,  6.6970e-04, -4.3880e-04,  3.7873e-04,  2.3086e-05,\n",
            "         -7.9379e-05, -1.5018e-02,  8.0340e-04,  2.6944e-03,  1.2197e-03],\n",
            "        [ 1.4491e-05,  2.4735e-04,  1.2626e-04,  9.0153e-04,  4.8436e-04,\n",
            "          3.3525e-03, -3.4358e-04,  6.5432e-06,  1.2593e-03, -1.3114e-03,\n",
            "          1.1289e-02,  2.3150e-02, -2.6873e-04, -4.2946e-04,  1.3483e-04,\n",
            "          1.3697e-04,  1.0633e-02,  5.3704e-04,  2.8322e-04,  7.6055e-04,\n",
            "          1.4823e-02,  1.9562e-03, -1.2278e-03,  2.0944e-02,  5.3997e-03,\n",
            "         -2.3753e-03,  8.6940e-03,  7.9056e-05, -2.4592e-03,  5.3381e-04,\n",
            "         -2.7865e-04, -4.1477e-03, -1.6752e-04,  1.5990e-02, -1.3134e-03,\n",
            "          5.5537e-03, -9.4224e-04,  1.3285e-04,  1.6657e-04, -3.0515e-04,\n",
            "          2.5637e-03,  2.3558e-03,  6.1392e-03, -6.0955e-04,  5.9904e-05,\n",
            "          3.8022e-03,  1.5417e-03,  1.1619e-04, -1.0594e-03,  3.2359e-03]]), 'exp_avg_sq': tensor([[1.7236e-04, 3.3038e-05, 6.6439e-05, 8.5158e-05, 1.2666e-04, 3.3397e-05,\n",
            "         1.7246e-04, 8.7900e-07, 3.6736e-05, 6.4536e-04, 8.8405e-05, 4.0971e-05,\n",
            "         1.2757e-03, 2.6561e-05, 3.3764e-05, 9.8594e-05, 1.0847e-06, 1.7415e-05,\n",
            "         1.9326e-04, 7.7453e-06, 3.8317e-05, 1.1894e-05, 1.2036e-04, 5.9660e-05,\n",
            "         3.5782e-05, 2.5536e-04, 4.5453e-05, 6.1956e-05, 2.0065e-05, 1.1087e-03,\n",
            "         1.8100e-04, 4.7338e-05, 2.7382e-05, 1.7207e-03, 4.0776e-06, 1.2615e-05,\n",
            "         7.4311e-06, 2.7786e-04, 9.0039e-05, 6.8191e-04, 7.0426e-04, 5.0474e-06,\n",
            "         1.7463e-05, 6.4159e-04, 7.0617e-05, 1.4294e-03, 3.9885e-05, 1.9124e-04,\n",
            "         1.2593e-05, 1.5903e-03],\n",
            "        [1.3756e-07, 4.1038e-06, 1.4091e-05, 5.0330e-04, 6.2803e-05, 1.2509e-05,\n",
            "         2.2199e-04, 7.9638e-06, 1.8595e-03, 9.7935e-05, 1.1098e-05, 1.4965e-05,\n",
            "         4.0934e-06, 1.9470e-04, 1.3150e-03, 1.0818e-04, 1.3256e-04, 2.9928e-04,\n",
            "         9.0530e-05, 1.0177e-03, 2.5902e-04, 1.8673e-04, 5.7257e-05, 2.3799e-05,\n",
            "         5.2314e-05, 3.0764e-04, 4.8527e-05, 1.0358e-03, 1.1427e-03, 3.3187e-04,\n",
            "         3.7111e-05, 3.9013e-05, 1.9176e-04, 5.3509e-05, 9.7639e-06, 4.4978e-05,\n",
            "         5.2297e-04, 3.7522e-06, 1.3309e-04, 6.3779e-05, 2.7520e-05, 1.1038e-03,\n",
            "         1.2154e-04, 3.8773e-05, 2.2816e-06, 3.3076e-05, 8.5128e-05, 1.1611e-06,\n",
            "         8.0445e-04, 9.9335e-06],\n",
            "        [5.7371e-05, 8.5156e-04, 1.9230e-04, 1.6377e-04, 6.1599e-05, 5.8878e-05,\n",
            "         2.2019e-03, 2.7502e-06, 7.2011e-03, 1.5838e-04, 3.5933e-04, 1.8912e-04,\n",
            "         4.1740e-05, 7.9277e-04, 1.8084e-03, 1.9685e-03, 2.2800e-04, 2.1418e-04,\n",
            "         5.4079e-05, 3.6599e-04, 5.5269e-05, 8.7060e-04, 6.3638e-04, 1.9562e-04,\n",
            "         3.7956e-04, 8.3676e-05, 9.1154e-04, 5.3240e-04, 3.8215e-04, 6.6564e-05,\n",
            "         1.5643e-04, 1.7137e-04, 3.4211e-03, 8.7465e-05, 2.0790e-05, 2.7592e-04,\n",
            "         4.1901e-05, 1.2885e-04, 2.3818e-03, 4.1808e-04, 2.4698e-04, 8.6091e-05,\n",
            "         4.3651e-04, 3.4653e-04, 6.0233e-06, 1.3948e-03, 2.0525e-03, 3.9969e-05,\n",
            "         6.7873e-05, 6.4030e-04],\n",
            "        [1.4118e-06, 3.6059e-04, 6.6912e-04, 1.7788e-04, 6.7957e-04, 8.3538e-04,\n",
            "         5.7860e-04, 1.4845e-05, 5.9764e-03, 1.3277e-04, 4.4794e-04, 1.3006e-04,\n",
            "         9.6165e-04, 2.4296e-04, 3.4307e-04, 1.8839e-03, 1.9079e-03, 5.0702e-03,\n",
            "         6.4380e-04, 5.4243e-03, 1.2783e-04, 1.7021e-03, 7.9181e-03, 5.5804e-05,\n",
            "         2.6144e-04, 1.0488e-04, 9.7505e-05, 2.3500e-05, 2.1240e-04, 3.0428e-05,\n",
            "         3.7741e-03, 1.2976e-03, 2.4548e-03, 1.1975e-04, 3.0364e-04, 4.6451e-03,\n",
            "         4.4211e-05, 2.3056e-05, 8.2519e-04, 6.7288e-05, 1.1898e-05, 2.6490e-05,\n",
            "         1.8907e-03, 8.0505e-04, 8.5699e-06, 3.3988e-04, 2.3337e-03, 2.7640e-05,\n",
            "         6.0254e-04, 3.5097e-05],\n",
            "        [2.4270e-04, 2.7706e-04, 1.9854e-06, 4.8142e-05, 4.5612e-05, 8.4708e-04,\n",
            "         5.5125e-04, 8.7846e-07, 3.8706e-05, 2.3723e-05, 2.6339e-04, 4.2272e-03,\n",
            "         6.6952e-06, 4.0769e-05, 1.5942e-05, 5.4754e-05, 1.4378e-04, 2.7527e-05,\n",
            "         9.5788e-05, 4.9604e-05, 4.5118e-03, 4.2521e-06, 3.2999e-04, 4.2083e-03,\n",
            "         1.7668e-04, 3.1794e-04, 1.8523e-03, 9.5808e-05, 2.2977e-03, 1.5863e-04,\n",
            "         7.5297e-05, 9.7134e-05, 7.5161e-05, 8.4153e-04, 3.4429e-04, 2.0263e-04,\n",
            "         1.3910e-04, 5.3441e-04, 2.9377e-04, 7.9900e-06, 3.0454e-03, 1.8700e-03,\n",
            "         2.2414e-03, 1.3189e-05, 2.2012e-05, 6.7213e-05, 4.3583e-05, 3.6467e-04,\n",
            "         8.6312e-05, 1.1763e-03],\n",
            "        [4.2504e-05, 3.7887e-05, 3.9411e-04, 1.4016e-04, 4.1952e-03, 2.7370e-03,\n",
            "         4.4338e-04, 4.6115e-05, 2.7731e-04, 5.3141e-04, 3.6099e-05, 4.0296e-04,\n",
            "         1.7653e-03, 2.5226e-05, 9.3571e-05, 1.4215e-04, 1.9916e-04, 4.7445e-03,\n",
            "         3.7292e-03, 4.9183e-03, 7.1784e-05, 4.2272e-04, 7.1467e-03, 5.2932e-05,\n",
            "         3.1193e-06, 8.2311e-05, 2.0868e-04, 4.2539e-04, 6.6085e-05, 1.9545e-04,\n",
            "         4.4046e-03, 3.5099e-04, 4.9860e-05, 3.4751e-04, 1.7726e-04, 3.0941e-03,\n",
            "         2.8806e-05, 4.3264e-04, 3.8062e-05, 5.2114e-05, 2.9138e-04, 9.8329e-05,\n",
            "         5.0918e-04, 4.5043e-04, 5.7785e-05, 3.3926e-04, 1.7729e-04, 1.4203e-04,\n",
            "         1.8215e-03, 4.3206e-04],\n",
            "        [4.7256e-04, 7.9120e-05, 1.2899e-05, 1.1307e-04, 2.6414e-03, 8.5731e-04,\n",
            "         1.3508e-03, 7.4126e-06, 9.0926e-06, 1.8847e-04, 1.4427e-05, 3.1169e-04,\n",
            "         2.3723e-04, 6.6723e-05, 3.6426e-05, 2.2455e-04, 2.7973e-09, 1.7574e-04,\n",
            "         3.0513e-03, 1.8777e-04, 1.1109e-04, 4.9702e-05, 6.1824e-05, 1.7373e-04,\n",
            "         2.5509e-06, 2.8548e-05, 2.7889e-04, 1.1912e-03, 2.2000e-04, 1.1921e-03,\n",
            "         1.0052e-03, 4.9118e-06, 2.2779e-05, 5.1811e-05, 6.1706e-07, 1.4076e-05,\n",
            "         3.1055e-05, 1.4302e-03, 1.5355e-04, 3.5531e-05, 3.0804e-03, 4.5768e-04,\n",
            "         1.2792e-05, 1.5527e-04, 3.8738e-05, 1.4689e-04, 2.9285e-05, 7.6239e-04,\n",
            "         5.3093e-04, 2.4003e-03],\n",
            "        [3.4194e-06, 7.3180e-05, 2.3073e-06, 1.7708e-05, 4.5991e-06, 1.8544e-04,\n",
            "         2.3243e-04, 4.6025e-06, 3.1853e-03, 4.1702e-05, 1.5031e-03, 3.0008e-04,\n",
            "         2.0686e-04, 1.3563e-04, 4.6526e-04, 6.9376e-05, 2.8140e-03, 1.4746e-04,\n",
            "         1.7548e-05, 1.8433e-04, 3.8493e-04, 1.6268e-04, 3.7881e-04, 4.5078e-04,\n",
            "         1.4660e-03, 2.2922e-04, 8.6916e-05, 4.8713e-05, 2.9024e-03, 1.5779e-04,\n",
            "         3.0312e-05, 1.1326e-04, 2.9087e-03, 3.5756e-03, 2.1858e-04, 4.7954e-04,\n",
            "         4.6658e-04, 1.6538e-07, 9.5209e-04, 4.7052e-05, 8.7544e-05, 1.4783e-04,\n",
            "         4.0671e-03, 2.2057e-05, 1.2691e-04, 1.2772e-03, 1.7258e-04, 3.3813e-06,\n",
            "         5.5882e-05, 4.3869e-05],\n",
            "        [1.2842e-05, 2.9319e-05, 6.3179e-05, 9.2137e-04, 1.4821e-03, 1.1048e-03,\n",
            "         3.4708e-04, 1.2054e-05, 2.9707e-04, 9.8692e-04, 7.1614e-06, 1.7409e-04,\n",
            "         1.8234e-04, 4.3295e-04, 1.1792e-04, 2.3117e-04, 1.6177e-04, 6.7804e-04,\n",
            "         3.5629e-04, 2.6637e-04, 8.2423e-05, 3.1861e-04, 2.3691e-04, 1.4606e-04,\n",
            "         2.0860e-05, 7.9783e-04, 5.6428e-04, 3.2757e-04, 1.0005e-04, 1.8955e-04,\n",
            "         2.2277e-04, 9.5084e-04, 9.3784e-04, 1.2348e-04, 6.8793e-05, 4.6573e-04,\n",
            "         2.7501e-04, 2.1987e-04, 8.7694e-05, 1.4452e-04, 2.3824e-04, 3.4184e-04,\n",
            "         6.2431e-05, 1.0928e-04, 9.5177e-06, 9.1844e-05, 1.1231e-03, 4.2502e-05,\n",
            "         1.6477e-03, 8.7209e-05],\n",
            "        [2.2833e-05, 1.2343e-04, 1.5483e-05, 6.6508e-05, 1.0191e-04, 2.5367e-03,\n",
            "         8.4970e-06, 1.9093e-05, 7.9673e-05, 1.0835e-04, 6.0012e-04, 4.0551e-03,\n",
            "         1.1866e-04, 2.9735e-05, 2.7716e-05, 2.0787e-06, 2.0493e-03, 9.0894e-04,\n",
            "         1.3844e-04, 3.3426e-04, 4.4643e-03, 2.0294e-04, 2.5747e-03, 3.9317e-03,\n",
            "         9.8323e-04, 9.2911e-04, 5.4052e-04, 8.6705e-06, 1.3595e-03, 6.1073e-05,\n",
            "         6.9231e-05, 7.7065e-04, 1.5466e-04, 4.4930e-03, 1.0393e-03, 2.3690e-03,\n",
            "         4.0926e-04, 3.5515e-05, 2.9141e-05, 3.0144e-04, 3.6980e-04, 5.8128e-04,\n",
            "         4.3677e-03, 1.5851e-04, 8.8646e-05, 2.6607e-04, 1.2748e-04, 5.9530e-07,\n",
            "         6.7026e-05, 2.5969e-04]])}, 140460908964672: {'step': 7800, 'exp_avg': tensor([ 1.2479e-03, -6.8706e-04,  4.9899e-03, -3.1483e-03,  5.7708e-04,\n",
            "        -1.0664e-03,  9.6317e-05, -2.0278e-03, -2.3682e-03,  2.3866e-03]), 'exp_avg_sq': tensor([4.2400e-05, 3.7479e-05, 7.7266e-05, 9.6516e-05, 8.0668e-05, 8.4668e-05,\n",
            "        4.7715e-05, 6.7124e-05, 1.0497e-04, 1.1770e-04])}}\n",
            "param_groups \t [{'lr': 0.01, 'betas': (0.9, 0.999), 'eps': 1e-08, 'weight_decay': 0, 'amsgrad': False, 'params': [140460908964240, 140460908964384, 140460908964456, 140460908964528, 140460908964600, 140460908964672]}]\n"
          ],
          "name": "stdout"
        }
      ]
    },
    {
      "cell_type": "code",
      "metadata": {
        "id": "Au8S3IPX_hN2",
        "colab_type": "code",
        "colab": {
          "base_uri": "https://localhost:8080/",
          "height": 187
        },
        "outputId": "3574e6b0-9ef8-4b62-f3fd-25727b759004"
      },
      "source": [
        "print(\"Our model: \\n\\n\", model, '\\n')\n",
        "\n",
        "\n",
        "pytorch_total_params = sum(p.numel() for p in model.parameters())\n",
        "pytorch_total_params"
      ],
      "execution_count": 22,
      "outputs": [
        {
          "output_type": "stream",
          "text": [
            "Our model: \n",
            "\n",
            " Network(\n",
            "  (fc1): Linear(in_features=784, out_features=100, bias=True)\n",
            "  (fc2): Linear(in_features=100, out_features=50, bias=True)\n",
            "  (fc4): Linear(in_features=50, out_features=10, bias=True)\n",
            "  (dropout): Dropout(p=0.2, inplace=False)\n",
            ") \n",
            "\n"
          ],
          "name": "stdout"
        },
        {
          "output_type": "execute_result",
          "data": {
            "text/plain": [
              "84060"
            ]
          },
          "metadata": {
            "tags": []
          },
          "execution_count": 22
        }
      ]
    },
    {
      "cell_type": "code",
      "metadata": {
        "id": "qDmds6CM_hI0",
        "colab_type": "code",
        "colab": {}
      },
      "source": [
        ""
      ],
      "execution_count": 0,
      "outputs": []
    },
    {
      "cell_type": "code",
      "metadata": {
        "id": "l5p8cScz_hEp",
        "colab_type": "code",
        "colab": {}
      },
      "source": [
        ""
      ],
      "execution_count": 0,
      "outputs": []
    },
    {
      "cell_type": "code",
      "metadata": {
        "id": "XyCbYMzj_gc2",
        "colab_type": "code",
        "colab": {}
      },
      "source": [
        ""
      ],
      "execution_count": 0,
      "outputs": []
    },
    {
      "cell_type": "code",
      "metadata": {
        "id": "Z-Fh23RG_gVg",
        "colab_type": "code",
        "colab": {}
      },
      "source": [
        ""
      ],
      "execution_count": 0,
      "outputs": []
    },
    {
      "cell_type": "code",
      "metadata": {
        "id": "6PDUTRfN_gPy",
        "colab_type": "code",
        "colab": {}
      },
      "source": [
        ""
      ],
      "execution_count": 0,
      "outputs": []
    },
    {
      "cell_type": "code",
      "metadata": {
        "id": "bce7uK1T_gLS",
        "colab_type": "code",
        "colab": {}
      },
      "source": [
        ""
      ],
      "execution_count": 0,
      "outputs": []
    },
    {
      "cell_type": "code",
      "metadata": {
        "id": "35p70zNj_gE2",
        "colab_type": "code",
        "colab": {}
      },
      "source": [
        ""
      ],
      "execution_count": 0,
      "outputs": []
    }
  ]
}